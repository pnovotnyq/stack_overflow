{
 "cells": [
  {
   "cell_type": "markdown",
   "metadata": {},
   "source": [
    "# I want to convert 1 minute olhc intraday stock data (present in pandas dataframe) into higher timeframe olhc data like 5min,10min,15min olhc data"
   ]
  },
  {
   "cell_type": "markdown",
   "metadata": {},
   "source": [
    "open     low    high   close  volume Adj_Close\n",
    "2020-07-24 13:12:00  191.00  190.95  191.00  190.95   21131    190.95\n",
    "2020-07-24 13:11:00  190.80  190.80  190.95  190.85   88030    190.85\n",
    "2020-07-24 13:10:00  191.25  190.80  191.25  190.80  163046    190.80\n",
    "2020-07-24 13:09:00  191.15  191.15  191.20  191.20   71910    191.20\n",
    "2020-07-24 13:08:00  191.10  191.05  191.20  191.10  100514    191.10"
   ]
  },
  {
   "cell_type": "code",
   "execution_count": 54,
   "metadata": {},
   "outputs": [],
   "source": [
    "import pandas as pd\n",
    "import numpy as np"
   ]
  },
  {
   "cell_type": "code",
   "execution_count": 55,
   "metadata": {},
   "outputs": [],
   "source": [
    "df = pd.read_clipboard()"
   ]
  },
  {
   "cell_type": "code",
   "execution_count": 71,
   "metadata": {},
   "outputs": [],
   "source": [
    "def resample_stock_data(df, timedelta):\n",
    "    \"\"\"Resample stock data to a timedelta.\n",
    "    \n",
    "    Args:\n",
    "        df (pd.DataFrame): DataFrame of stock data to resample\n",
    "        timedelta: DateOffset, TimeDelta or str to resample to.\n",
    "    Returns:\n",
    "        pd.DataFrame: Resampled dataframe\"\"\"\n",
    "        \n",
    "    # Create a datetime index\n",
    "    df = df.reset_index()\n",
    "    df = df.set_index(pd.to_datetime(df['level_0'] + ' ' + df['level_1']))\n",
    "    df = df.drop(['level_0', 'level_1'], axis=1)\n",
    "    # Resample data\n",
    "    olhc = df.drop('volume', axis=1)\n",
    "    olhc = olhc.resample(timedelta).mean()\n",
    "    volume = df['volume']\n",
    "    volume = volume.resample(timedelta).sum()\n",
    "    resampled = pd.concat([olhc, volume], axis=1)\n",
    "    return resampled\n",
    "\n",
    "resampled_05m = resample_stock_data(df, '5min')\n",
    "resampled_10m = resample_stock_data(df, '10min')\n",
    "resampled_15m = resample_stock_data(df, '15min')"
   ]
  },
  {
   "cell_type": "code",
   "execution_count": 73,
   "metadata": {},
   "outputs": [
    {
     "data": {
      "text/html": [
       "<div>\n",
       "<style scoped>\n",
       "    .dataframe tbody tr th:only-of-type {\n",
       "        vertical-align: middle;\n",
       "    }\n",
       "\n",
       "    .dataframe tbody tr th {\n",
       "        vertical-align: top;\n",
       "    }\n",
       "\n",
       "    .dataframe thead th {\n",
       "        text-align: right;\n",
       "    }\n",
       "</style>\n",
       "<table border=\"1\" class=\"dataframe\">\n",
       "  <thead>\n",
       "    <tr style=\"text-align: right;\">\n",
       "      <th></th>\n",
       "      <th>open</th>\n",
       "      <th>low</th>\n",
       "      <th>high</th>\n",
       "      <th>close</th>\n",
       "      <th>Adj_Close</th>\n",
       "      <th>volume</th>\n",
       "    </tr>\n",
       "  </thead>\n",
       "  <tbody>\n",
       "    <tr>\n",
       "      <th>2020-07-24 13:00:00</th>\n",
       "      <td>191.125000</td>\n",
       "      <td>191.10</td>\n",
       "      <td>191.200000</td>\n",
       "      <td>191.150000</td>\n",
       "      <td>191.150000</td>\n",
       "      <td>172424</td>\n",
       "    </tr>\n",
       "    <tr>\n",
       "      <th>2020-07-24 13:10:00</th>\n",
       "      <td>191.016667</td>\n",
       "      <td>190.85</td>\n",
       "      <td>191.066667</td>\n",
       "      <td>190.866667</td>\n",
       "      <td>190.866667</td>\n",
       "      <td>272207</td>\n",
       "    </tr>\n",
       "  </tbody>\n",
       "</table>\n",
       "</div>"
      ],
      "text/plain": [
       "                           open     low        high       close   Adj_Close  \\\n",
       "2020-07-24 13:00:00  191.125000  191.10  191.200000  191.150000  191.150000   \n",
       "2020-07-24 13:10:00  191.016667  190.85  191.066667  190.866667  190.866667   \n",
       "\n",
       "                     volume  \n",
       "2020-07-24 13:00:00  172424  \n",
       "2020-07-24 13:10:00  272207  "
      ]
     },
     "execution_count": 73,
     "metadata": {},
     "output_type": "execute_result"
    }
   ],
   "source": [
    "resampled_10m"
   ]
  },
  {
   "cell_type": "code",
   "execution_count": null,
   "metadata": {},
   "outputs": [],
   "source": []
  }
 ],
 "metadata": {
  "kernelspec": {
   "display_name": "Python 3",
   "language": "python",
   "name": "python3"
  },
  "language_info": {
   "codemirror_mode": {
    "name": "ipython",
    "version": 3
   },
   "file_extension": ".py",
   "mimetype": "text/x-python",
   "name": "python",
   "nbconvert_exporter": "python",
   "pygments_lexer": "ipython3",
   "version": "3.8.3"
  }
 },
 "nbformat": 4,
 "nbformat_minor": 4
}
